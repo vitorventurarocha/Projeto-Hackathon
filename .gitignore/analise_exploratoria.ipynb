{
 "cells": [
  {
   "cell_type": "code",
   "execution_count": null,
   "id": "96462db5",
   "metadata": {},
   "outputs": [],
   "source": [
    "print(\"Oi mundinho!\")\n"
   ]
  }
 ],
 "metadata": {
  "kernelspec": {
   "display_name": ".venv",
   "language": "python",
   "name": "python3"
  },
  "language_info": {
   "name": "python",
   "version": "3.13.7"
  }
 },
 "nbformat": 4,
 "nbformat_minor": 5
}
